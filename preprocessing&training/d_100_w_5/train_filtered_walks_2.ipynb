{
 "cells": [
  {
   "cell_type": "code",
   "execution_count": 1,
   "id": "87c6edeb-f61f-4145-9d52-ccb97eeb8f8d",
   "metadata": {},
   "outputs": [],
   "source": [
    "%load_ext autoreload\n",
    "%autoreload 1"
   ]
  },
  {
   "cell_type": "code",
   "execution_count": 2,
   "id": "1e198e6b-f078-4100-8a5a-9b3fa5b761b6",
   "metadata": {},
   "outputs": [],
   "source": [
    "import sys \n",
    "sys.path.append(\"../..\") \n",
    "\n",
    "%aimport p2v"
   ]
  },
  {
   "cell_type": "code",
   "execution_count": 3,
   "id": "08249898-ec90-4e25-a174-5dc90e5620a1",
   "metadata": {},
   "outputs": [
    {
     "name": "stdout",
     "output_type": "stream",
     "text": [
      "2024-04-07 12:59:13 -- start loading Mag_venue_info_df\n",
      "2024-04-07 12:59:13 -- finish.\n",
      "2024-04-07 12:59:13 -- start loading labeled_journal_info_df\n",
      "2024-04-07 12:59:14 -- finish.\n"
     ]
    }
   ],
   "source": [
    "model = p2v.P2V()"
   ]
  },
  {
   "cell_type": "code",
   "execution_count": null,
   "id": "55eeadac-dfc2-4581-99ac-153cccb8847d",
   "metadata": {},
   "outputs": [
    {
     "name": "stdout",
     "output_type": "stream",
     "text": [
      "2024-04-07 12:59:14 -- start loading filtered walks...\n",
      "2024-04-07 13:00:21 -- finish.\n",
      "2024-04-07 13:00:21 -- Training model for papers from 1990 to 1999...\n"
     ]
    }
   ],
   "source": [
    "num_features = 100\n",
    "context_win_size = 5\n",
    "\n",
    "model.train_w2v_for_a_decade(1990, 1999, \n",
    "                             num_features=num_features, context_win_size=context_win_size,\n",
    "                             use_filtered_walks=True\n",
    "                            )"
   ]
  },
  {
   "cell_type": "code",
   "execution_count": null,
   "id": "8c2a09f2-0e4d-4fd3-a23f-e7449fc9cda8",
   "metadata": {
    "scrolled": true
   },
   "outputs": [],
   "source": [
    "model.reduce_dimensions(1990, 1999, num_features, context_win_size)"
   ]
  },
  {
   "cell_type": "code",
   "execution_count": null,
   "id": "6123d1f9-c0f7-477b-bf2e-4b5514345977",
   "metadata": {
    "scrolled": true
   },
   "outputs": [],
   "source": [
    "model.labelling(1990, 1999, num_features, context_win_size)"
   ]
  }
 ],
 "metadata": {
  "kernelspec": {
   "display_name": "Python 3 (ipykernel)",
   "language": "python",
   "name": "python3"
  },
  "language_info": {
   "codemirror_mode": {
    "name": "ipython",
    "version": 3
   },
   "file_extension": ".py",
   "mimetype": "text/x-python",
   "name": "python",
   "nbconvert_exporter": "python",
   "pygments_lexer": "ipython3",
   "version": "3.10.12"
  }
 },
 "nbformat": 4,
 "nbformat_minor": 5
}
