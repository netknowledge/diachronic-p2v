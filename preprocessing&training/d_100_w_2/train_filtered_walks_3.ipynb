{
 "cells": [
  {
   "cell_type": "code",
   "execution_count": 1,
   "id": "87c6edeb-f61f-4145-9d52-ccb97eeb8f8d",
   "metadata": {},
   "outputs": [],
   "source": [
    "%load_ext autoreload\n",
    "%autoreload 1"
   ]
  },
  {
   "cell_type": "code",
   "execution_count": 2,
   "id": "1e198e6b-f078-4100-8a5a-9b3fa5b761b6",
   "metadata": {},
   "outputs": [
    {
     "ename": "ModuleNotFoundError",
     "evalue": "No module named 'p2v'",
     "output_type": "error",
     "traceback": [
      "\u001b[0;31m---------------------------------------------------------------------------\u001b[0m",
      "\u001b[0;31mModuleNotFoundError\u001b[0m                       Traceback (most recent call last)",
      "Input \u001b[0;32mIn [2]\u001b[0m, in \u001b[0;36m<cell line: 4>\u001b[0;34m()\u001b[0m\n\u001b[1;32m      1\u001b[0m \u001b[38;5;28;01mimport\u001b[39;00m \u001b[38;5;21;01msys\u001b[39;00m \n\u001b[1;32m      2\u001b[0m sys\u001b[38;5;241m.\u001b[39mpath\u001b[38;5;241m.\u001b[39mappend(\u001b[38;5;124m\"\u001b[39m\u001b[38;5;124m..\u001b[39m\u001b[38;5;124m\"\u001b[39m) \n\u001b[0;32m----> 4\u001b[0m \u001b[43mget_ipython\u001b[49m\u001b[43m(\u001b[49m\u001b[43m)\u001b[49m\u001b[38;5;241;43m.\u001b[39;49m\u001b[43mrun_line_magic\u001b[49m\u001b[43m(\u001b[49m\u001b[38;5;124;43m'\u001b[39;49m\u001b[38;5;124;43maimport\u001b[39;49m\u001b[38;5;124;43m'\u001b[39;49m\u001b[43m,\u001b[49m\u001b[43m \u001b[49m\u001b[38;5;124;43m'\u001b[39;49m\u001b[38;5;124;43mp2v\u001b[39;49m\u001b[38;5;124;43m'\u001b[39;49m\u001b[43m)\u001b[49m\n",
      "File \u001b[0;32m/usr/local/lib/python3.10/dist-packages/IPython/core/interactiveshell.py:2304\u001b[0m, in \u001b[0;36mInteractiveShell.run_line_magic\u001b[0;34m(self, magic_name, line, _stack_depth)\u001b[0m\n\u001b[1;32m   2302\u001b[0m     kwargs[\u001b[38;5;124m'\u001b[39m\u001b[38;5;124mlocal_ns\u001b[39m\u001b[38;5;124m'\u001b[39m] \u001b[38;5;241m=\u001b[39m \u001b[38;5;28mself\u001b[39m\u001b[38;5;241m.\u001b[39mget_local_scope(stack_depth)\n\u001b[1;32m   2303\u001b[0m \u001b[38;5;28;01mwith\u001b[39;00m \u001b[38;5;28mself\u001b[39m\u001b[38;5;241m.\u001b[39mbuiltin_trap:\n\u001b[0;32m-> 2304\u001b[0m     result \u001b[38;5;241m=\u001b[39m \u001b[43mfn\u001b[49m\u001b[43m(\u001b[49m\u001b[38;5;241;43m*\u001b[39;49m\u001b[43margs\u001b[49m\u001b[43m,\u001b[49m\u001b[43m \u001b[49m\u001b[38;5;241;43m*\u001b[39;49m\u001b[38;5;241;43m*\u001b[39;49m\u001b[43mkwargs\u001b[49m\u001b[43m)\u001b[49m\n\u001b[1;32m   2305\u001b[0m \u001b[38;5;28;01mreturn\u001b[39;00m result\n",
      "File \u001b[0;32m/usr/local/lib/python3.10/dist-packages/IPython/extensions/autoreload.py:599\u001b[0m, in \u001b[0;36mAutoreloadMagics.aimport\u001b[0;34m(self, parameter_s, stream)\u001b[0m\n\u001b[1;32m    597\u001b[0m \u001b[38;5;28;01melse\u001b[39;00m:\n\u001b[1;32m    598\u001b[0m     \u001b[38;5;28;01mfor\u001b[39;00m _module \u001b[38;5;129;01min\u001b[39;00m [_\u001b[38;5;241m.\u001b[39mstrip() \u001b[38;5;28;01mfor\u001b[39;00m _ \u001b[38;5;129;01min\u001b[39;00m modname\u001b[38;5;241m.\u001b[39msplit(\u001b[38;5;124m\"\u001b[39m\u001b[38;5;124m,\u001b[39m\u001b[38;5;124m\"\u001b[39m)]:\n\u001b[0;32m--> 599\u001b[0m         top_module, top_name \u001b[38;5;241m=\u001b[39m \u001b[38;5;28;43mself\u001b[39;49m\u001b[38;5;241;43m.\u001b[39;49m\u001b[43m_reloader\u001b[49m\u001b[38;5;241;43m.\u001b[39;49m\u001b[43maimport_module\u001b[49m\u001b[43m(\u001b[49m\u001b[43m_module\u001b[49m\u001b[43m)\u001b[49m\n\u001b[1;32m    601\u001b[0m         \u001b[38;5;66;03m# Inject module to user namespace\u001b[39;00m\n\u001b[1;32m    602\u001b[0m         \u001b[38;5;28mself\u001b[39m\u001b[38;5;241m.\u001b[39mshell\u001b[38;5;241m.\u001b[39mpush({top_name: top_module})\n",
      "File \u001b[0;32m/usr/local/lib/python3.10/dist-packages/IPython/extensions/autoreload.py:187\u001b[0m, in \u001b[0;36mModuleReloader.aimport_module\u001b[0;34m(self, module_name)\u001b[0m\n\u001b[1;32m    175\u001b[0m \u001b[38;5;124;03m\"\"\"Import a module, and mark it reloadable\u001b[39;00m\n\u001b[1;32m    176\u001b[0m \n\u001b[1;32m    177\u001b[0m \u001b[38;5;124;03mReturns\u001b[39;00m\n\u001b[0;32m   (...)\u001b[0m\n\u001b[1;32m    183\u001b[0m \n\u001b[1;32m    184\u001b[0m \u001b[38;5;124;03m\"\"\"\u001b[39;00m\n\u001b[1;32m    185\u001b[0m \u001b[38;5;28mself\u001b[39m\u001b[38;5;241m.\u001b[39mmark_module_reloadable(module_name)\n\u001b[0;32m--> 187\u001b[0m \u001b[43mimport_module\u001b[49m\u001b[43m(\u001b[49m\u001b[43mmodule_name\u001b[49m\u001b[43m)\u001b[49m\n\u001b[1;32m    188\u001b[0m top_name \u001b[38;5;241m=\u001b[39m module_name\u001b[38;5;241m.\u001b[39msplit(\u001b[38;5;124m\"\u001b[39m\u001b[38;5;124m.\u001b[39m\u001b[38;5;124m\"\u001b[39m)[\u001b[38;5;241m0\u001b[39m]\n\u001b[1;32m    189\u001b[0m top_module \u001b[38;5;241m=\u001b[39m sys\u001b[38;5;241m.\u001b[39mmodules[top_name]\n",
      "File \u001b[0;32m/usr/lib/python3.10/importlib/__init__.py:126\u001b[0m, in \u001b[0;36mimport_module\u001b[0;34m(name, package)\u001b[0m\n\u001b[1;32m    124\u001b[0m             \u001b[38;5;28;01mbreak\u001b[39;00m\n\u001b[1;32m    125\u001b[0m         level \u001b[38;5;241m+\u001b[39m\u001b[38;5;241m=\u001b[39m \u001b[38;5;241m1\u001b[39m\n\u001b[0;32m--> 126\u001b[0m \u001b[38;5;28;01mreturn\u001b[39;00m \u001b[43m_bootstrap\u001b[49m\u001b[38;5;241;43m.\u001b[39;49m\u001b[43m_gcd_import\u001b[49m\u001b[43m(\u001b[49m\u001b[43mname\u001b[49m\u001b[43m[\u001b[49m\u001b[43mlevel\u001b[49m\u001b[43m:\u001b[49m\u001b[43m]\u001b[49m\u001b[43m,\u001b[49m\u001b[43m \u001b[49m\u001b[43mpackage\u001b[49m\u001b[43m,\u001b[49m\u001b[43m \u001b[49m\u001b[43mlevel\u001b[49m\u001b[43m)\u001b[49m\n",
      "File \u001b[0;32m<frozen importlib._bootstrap>:1050\u001b[0m, in \u001b[0;36m_gcd_import\u001b[0;34m(name, package, level)\u001b[0m\n",
      "File \u001b[0;32m<frozen importlib._bootstrap>:1027\u001b[0m, in \u001b[0;36m_find_and_load\u001b[0;34m(name, import_)\u001b[0m\n",
      "File \u001b[0;32m<frozen importlib._bootstrap>:1004\u001b[0m, in \u001b[0;36m_find_and_load_unlocked\u001b[0;34m(name, import_)\u001b[0m\n",
      "\u001b[0;31mModuleNotFoundError\u001b[0m: No module named 'p2v'"
     ]
    }
   ],
   "source": [
    "import sys \n",
    "sys.path.append(\"../..\") \n",
    "\n",
    "%aimport p2v"
   ]
  },
  {
   "cell_type": "code",
   "execution_count": null,
   "id": "08249898-ec90-4e25-a174-5dc90e5620a1",
   "metadata": {},
   "outputs": [],
   "source": [
    "model = p2v.P2V()"
   ]
  },
  {
   "cell_type": "code",
   "execution_count": null,
   "id": "55eeadac-dfc2-4581-99ac-153cccb8847d",
   "metadata": {},
   "outputs": [],
   "source": [
    "num_features = 100\n",
    "context_win_size = 2\n",
    "\n",
    "model.train_w2v_for_a_decade(1990, 1999, \n",
    "                             num_features=num_features, context_win_size=context_win_size,\n",
    "                             use_filtered_walks=True\n",
    "                            )"
   ]
  },
  {
   "cell_type": "code",
   "execution_count": null,
   "id": "8c2a09f2-0e4d-4fd3-a23f-e7449fc9cda8",
   "metadata": {
    "scrolled": true
   },
   "outputs": [],
   "source": [
    "model.reduce_dimensions(1990, 1999, num_features, context_win_size)"
   ]
  },
  {
   "cell_type": "code",
   "execution_count": null,
   "id": "6123d1f9-c0f7-477b-bf2e-4b5514345977",
   "metadata": {
    "scrolled": true
   },
   "outputs": [],
   "source": [
    "model.labelling(1990, 1999, num_features, context_win_size)"
   ]
  },
  {
   "cell_type": "code",
   "execution_count": null,
   "id": "6e727642-5d9f-405a-ab68-ccf20aa6d248",
   "metadata": {},
   "outputs": [],
   "source": [
    "start_year = 1960\n",
    "end_year = 1969\n",
    "model.train_w2v_for_a_decade(start_year, end_year, \n",
    "                             num_features=num_features, context_win_size=context_win_size,\n",
    "                             use_filtered_walks=True\n",
    "                            )"
   ]
  },
  {
   "cell_type": "code",
   "execution_count": null,
   "id": "ba864be6-1e8a-4f81-8deb-c68b48da5edb",
   "metadata": {
    "scrolled": true
   },
   "outputs": [],
   "source": [
    "model.reduce_dimensions(start_year, end_year, num_features, context_win_size)"
   ]
  },
  {
   "cell_type": "code",
   "execution_count": null,
   "id": "9f5c5e4b-86d9-486d-9b18-85bf0a47a9d9",
   "metadata": {
    "scrolled": true
   },
   "outputs": [],
   "source": [
    "model.labelling(start_year, end_year, num_features, context_win_size)"
   ]
  },
  {
   "cell_type": "code",
   "execution_count": null,
   "id": "ad5c6c15-fb32-4757-8ead-70dd04a5acfc",
   "metadata": {},
   "outputs": [],
   "source": [
    "start_year = 1970\n",
    "end_year = 1979\n",
    "model.train_w2v_for_a_decade(start_year, end_year, \n",
    "                             num_features=num_features, context_win_size=context_win_size,\n",
    "                             use_filtered_walks=True\n",
    "                            )"
   ]
  },
  {
   "cell_type": "code",
   "execution_count": null,
   "id": "33732631-08d7-4eed-865c-e08cb6ffae33",
   "metadata": {
    "scrolled": true
   },
   "outputs": [],
   "source": [
    "model.reduce_dimensions(start_year, end_year, num_features, context_win_size)"
   ]
  },
  {
   "cell_type": "code",
   "execution_count": null,
   "id": "a65460a1-6d09-4867-897d-7aa527d02556",
   "metadata": {
    "scrolled": true
   },
   "outputs": [],
   "source": [
    "model.labelling(start_year, end_year, num_features, context_win_size)"
   ]
  },
  {
   "cell_type": "code",
   "execution_count": null,
   "id": "4c85bf84-6214-475d-bb1a-4252015d0316",
   "metadata": {},
   "outputs": [],
   "source": [
    "start_year = 1980\n",
    "end_year = 1989\n",
    "model.train_w2v_for_a_decade(start_year, end_year, \n",
    "                             num_features=num_features, context_win_size=context_win_size,\n",
    "                             use_filtered_walks=True\n",
    "                            )"
   ]
  },
  {
   "cell_type": "code",
   "execution_count": null,
   "id": "b55b1224-658e-4678-9c02-207adcce6a06",
   "metadata": {
    "scrolled": true
   },
   "outputs": [],
   "source": [
    "model.reduce_dimensions(start_year, end_year, num_features, context_win_size)"
   ]
  },
  {
   "cell_type": "code",
   "execution_count": null,
   "id": "1344b943-9654-4575-a2e8-dbc12c63757a",
   "metadata": {
    "scrolled": true
   },
   "outputs": [],
   "source": [
    "model.labelling(start_year, end_year, num_features, context_win_size)"
   ]
  }
 ],
 "metadata": {
  "kernelspec": {
   "display_name": "Python 3 (ipykernel)",
   "language": "python",
   "name": "python3"
  },
  "language_info": {
   "codemirror_mode": {
    "name": "ipython",
    "version": 3
   },
   "file_extension": ".py",
   "mimetype": "text/x-python",
   "name": "python",
   "nbconvert_exporter": "python",
   "pygments_lexer": "ipython3",
   "version": "3.10.12"
  }
 },
 "nbformat": 4,
 "nbformat_minor": 5
}
