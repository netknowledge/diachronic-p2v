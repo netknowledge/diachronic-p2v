{
 "cells": [
  {
   "cell_type": "code",
   "execution_count": 3,
   "id": "2a2fc6cd-6c72-4b22-9786-4a93d51ac850",
   "metadata": {},
   "outputs": [],
   "source": [
    "%load_ext autoreload\n",
    "%autoreload 1"
   ]
  },
  {
   "cell_type": "code",
   "execution_count": 4,
   "id": "e3c75821-db60-41f6-bb5d-3792b75bd1f4",
   "metadata": {},
   "outputs": [],
   "source": [
    "import pandas as pd\n",
    "import numpy as np\n",
    "import networkx as nx\n",
    "import pickle\n",
    "import datetime\n",
    "from gensim.models import word2vec, KeyedVectors\n",
    "from sklearn.metrics.pairwise import cosine_similarity\n",
    "from multiprocessing import cpu_count\n",
    "from pandarallel import pandarallel\n",
    "import sys\n",
    "\n",
    "%aimport preprocessing\n",
    "%aimport utils\n",
    "%aimport p2v\n",
    "\n",
    "from utils import prinT\n",
    "import matplotlib.pyplot as plt\n",
    "import seaborn as sns\n",
    "%matplotlib inline\n",
    "\n",
    "pd.options.display.max_columns = None\n",
    "pd.set_option('max_colwidth', None)"
   ]
  },
  {
   "cell_type": "code",
   "execution_count": 5,
   "id": "efe56dc7-af51-42a6-be51-c63842080d34",
   "metadata": {},
   "outputs": [
    {
     "name": "stdout",
     "output_type": "stream",
     "text": [
      "2023-09-13 07:25:51 -- start loading Mag_venue_info_df\n",
      "2023-09-13 07:25:51 -- finish.\n",
      "2023-09-13 07:25:51 -- start loading labeled_journal_info_df\n",
      "2023-09-13 07:25:51 -- finish.\n"
     ]
    }
   ],
   "source": [
    "model = p2v.P2V()"
   ]
  },
  {
   "cell_type": "code",
   "execution_count": 14,
   "id": "c00f247c-8dab-449e-b977-441f8eba965d",
   "metadata": {},
   "outputs": [],
   "source": [
    "def PID2VID(PID: int):\n",
    "    return model.target_paper_df.at[PID, 'VenueID']\n",
    "\n",
    "def make_edgelist(start_year: int, end_year: int):\n",
    "    model.load_ref_df(full_load=False, start_year=start_year, end_year=end_year)\n",
    "    target_ref_df = model.target_ref_df.reset_index()\n",
    "    model.load_paper_df(full_load=False, start_year=start_year, end_year=end_year)\n",
    "    model.target_paper_df.set_index('PaperID', inplace=True)\n",
    "    \n",
    "    p_ref_df = pd.DataFrame()\n",
    "    pandarallel.initialize()\n",
    "    p_ref_df['citing_VID'] = target_ref_df.PaperID.parallel_apply(PID2VID)\n",
    "    p_ref_df['cited_VID'] = target_ref_df.PaperReferenceID.parallel_apply(PID2VID)\n",
    "    \n",
    "    p_ref_df.loc[:,'citing_venue_name'] = p_ref_df['citing_VID'].parallel_apply(lambda x: model.MAG_venue_info_df.at[x, 'OriginalVenue'])\n",
    "    p_ref_df.loc[:,'cited_venue_name'] = p_ref_df['cited_VID'].parallel_apply(lambda x: model.MAG_venue_info_df.at[x, 'OriginalVenue'])\n",
    "    \n",
    "    venue_name2NID_df = pd.DataFrame(set(list(pd.unique(p_ref_df['citing_venue_name'])) + list(pd.unique(p_ref_df['cited_venue_name']))), \n",
    "                                     columns=['venue_name']).reset_index(names='NID').set_index('venue_name')\n",
    "    \n",
    "    p_ref_df.loc[:,'citing_NID'] = p_ref_df['citing_venue_name'].parallel_apply(lambda x:venue_name2NID_df.at[x, 'NID'])\n",
    "    p_ref_df.loc[:,'cited_NID'] = p_ref_df['cited_venue_name'].parallel_apply(lambda x: venue_name2NID_df.at[x, 'NID'])\n",
    "    \n",
    "    np.savetxt('/media/sdb/p2v/pickles/decades/%s_to_%s/edgelist.txt' %(start_year, end_year), p_ref_df[['citing_NID', 'cited_NID']].values, fmt='%u')\n",
    "    venue_name2NID_df.to_pickle('/media/sdb/p2v/pickles/decades/%s_to_%s/venue_name2NID.pkl' %(start_year, end_year))"
   ]
  },
  {
   "cell_type": "code",
   "execution_count": 75,
   "id": "2dac919b-a035-436d-8004-a3d736dc1a1a",
   "metadata": {},
   "outputs": [
    {
     "name": "stdout",
     "output_type": "stream",
     "text": [
      "INFO: Pandarallel will run on 32 workers.\n",
      "INFO: Pandarallel will use Memory file system to transfer data between the main process and workers.\n"
     ]
    }
   ],
   "source": [
    "make_edgelist(1950, 1959)"
   ]
  },
  {
   "cell_type": "code",
   "execution_count": 76,
   "id": "7bf82b90-09f2-4623-9bad-e9265bfece02",
   "metadata": {},
   "outputs": [
    {
     "name": "stdout",
     "output_type": "stream",
     "text": [
      "INFO: Pandarallel will run on 32 workers.\n",
      "INFO: Pandarallel will use Memory file system to transfer data between the main process and workers.\n"
     ]
    }
   ],
   "source": [
    "make_edgelist(1960, 1969)"
   ]
  },
  {
   "cell_type": "code",
   "execution_count": null,
   "id": "6a22a245-278e-4a88-bb76-6236e9fd2833",
   "metadata": {},
   "outputs": [
    {
     "name": "stdout",
     "output_type": "stream",
     "text": [
      "INFO: Pandarallel will run on 32 workers.\n",
      "INFO: Pandarallel will use Memory file system to transfer data between the main process and workers.\n"
     ]
    }
   ],
   "source": [
    "make_edgelist(1970, 1979)"
   ]
  },
  {
   "cell_type": "code",
   "execution_count": null,
   "id": "afcdb6d6-2e32-4b49-b130-996b8c8e1eb1",
   "metadata": {},
   "outputs": [],
   "source": [
    "make_edgelist(1980, 1989)"
   ]
  },
  {
   "cell_type": "code",
   "execution_count": 15,
   "id": "29382206-8e78-4ee3-befd-cfeae73fb409",
   "metadata": {},
   "outputs": [
    {
     "name": "stdout",
     "output_type": "stream",
     "text": [
      "INFO: Pandarallel will run on 32 workers.\n",
      "INFO: Pandarallel will use Memory file system to transfer data between the main process and workers.\n"
     ]
    }
   ],
   "source": [
    "make_edgelist(1990, 1999)"
   ]
  },
  {
   "cell_type": "code",
   "execution_count": 16,
   "id": "231bf0df-7e57-4978-9b58-dccf84679546",
   "metadata": {},
   "outputs": [
    {
     "name": "stdout",
     "output_type": "stream",
     "text": [
      "INFO: Pandarallel will run on 32 workers.\n",
      "INFO: Pandarallel will use Memory file system to transfer data between the main process and workers.\n"
     ]
    }
   ],
   "source": [
    "make_edgelist(2000, 2009)"
   ]
  },
  {
   "cell_type": "code",
   "execution_count": 17,
   "id": "e603d58e-6d06-4f83-a003-9a2a4fd6d10c",
   "metadata": {},
   "outputs": [
    {
     "name": "stdout",
     "output_type": "stream",
     "text": [
      "INFO: Pandarallel will run on 32 workers.\n",
      "INFO: Pandarallel will use Memory file system to transfer data between the main process and workers.\n"
     ]
    }
   ],
   "source": [
    "make_edgelist(2010, 2021)"
   ]
  },
  {
   "cell_type": "code",
   "execution_count": null,
   "id": "1c2e7b3a-12aa-47e9-a3d5-13278175ad29",
   "metadata": {},
   "outputs": [],
   "source": []
  }
 ],
 "metadata": {
  "kernelspec": {
   "display_name": "Python 3 (ipykernel)",
   "language": "python",
   "name": "python3"
  },
  "language_info": {
   "codemirror_mode": {
    "name": "ipython",
    "version": 3
   },
   "file_extension": ".py",
   "mimetype": "text/x-python",
   "name": "python",
   "nbconvert_exporter": "python",
   "pygments_lexer": "ipython3",
   "version": "3.10.12"
  }
 },
 "nbformat": 4,
 "nbformat_minor": 5
}
