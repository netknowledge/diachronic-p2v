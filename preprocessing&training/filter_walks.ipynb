{
 "cells": [
  {
   "cell_type": "code",
   "execution_count": 1,
   "id": "e8740c54-eef2-49fc-b0d1-59b884cb6583",
   "metadata": {},
   "outputs": [],
   "source": [
    "%load_ext autoreload\n",
    "%autoreload 1"
   ]
  },
  {
   "cell_type": "code",
   "execution_count": 2,
   "id": "3e2065ae-78b2-49ef-8bb5-9e6d0f8d65f4",
   "metadata": {},
   "outputs": [],
   "source": [
    "import sys \n",
    "sys.path.append(\"..\") \n",
    "\n",
    "%aimport p2v"
   ]
  },
  {
   "cell_type": "code",
   "execution_count": 3,
   "id": "84c57151-c12f-46bc-ade0-b2a6ce1bcf18",
   "metadata": {},
   "outputs": [],
   "source": [
    "from multiprocessing.pool import Pool\n",
    "import tqdm\n",
    "import pickle\n",
    "from utils import prinT"
   ]
  },
  {
   "cell_type": "code",
   "execution_count": 4,
   "id": "bedf1bac-de9a-4fa5-9526-676ebac03c33",
   "metadata": {},
   "outputs": [
    {
     "name": "stdout",
     "output_type": "stream",
     "text": [
      "2023-09-01 23:22:36 -- start loading Mag_venue_info_df\n",
      "2023-09-01 23:22:36 -- finish.\n",
      "2023-09-01 23:22:36 -- start loading labeled_journal_info_df\n",
      "2023-09-01 23:22:36 -- finish.\n"
     ]
    }
   ],
   "source": [
    "model = p2v.P2V()"
   ]
  },
  {
   "cell_type": "code",
   "execution_count": 5,
   "id": "efd3c134-8646-443f-bf13-9c65faf323eb",
   "metadata": {},
   "outputs": [],
   "source": [
    "def filter_walk(walk: list):\n",
    "    if len(set(walk)) == 1:\n",
    "        pass\n",
    "    else:\n",
    "        return walk"
   ]
  },
  {
   "cell_type": "code",
   "execution_count": null,
   "id": "6b6bb16f-8fbf-466b-ac05-c0553cccb7d4",
   "metadata": {},
   "outputs": [
    {
     "name": "stdout",
     "output_type": "stream",
     "text": [
      "2023-09-01 23:27:52 -- start loading walks...\n",
      "2023-09-01 23:27:55 -- finish.\n"
     ]
    },
    {
     "name": "stderr",
     "output_type": "stream",
     "text": [
      "100%|██████████| 1357085/1357085 [02:14<00:00, 10102.47it/s]\n"
     ]
    },
    {
     "name": "stdout",
     "output_type": "stream",
     "text": [
      "2023-09-01 23:30:20 -- The file 'filtered_walks.pkl' is ready, 1357085 walks in, 1157002 walks out\n",
      "2023-09-01 23:30:20 -- 1/7 years generated...\n",
      "2023-09-01 23:30:20 -- start loading walks...\n",
      "2023-09-01 23:30:31 -- finish.\n"
     ]
    },
    {
     "name": "stderr",
     "output_type": "stream",
     "text": [
      "100%|██████████| 3540322/3540322 [05:57<00:00, 9906.20it/s] \n"
     ]
    },
    {
     "name": "stdout",
     "output_type": "stream",
     "text": [
      "2023-09-01 23:36:56 -- The file 'filtered_walks.pkl' is ready, 3540322 walks in, 3112449 walks out\n",
      "2023-09-01 23:36:56 -- 2/7 years generated...\n",
      "2023-09-01 23:36:56 -- start loading walks...\n",
      "2023-09-01 23:37:21 -- finish.\n"
     ]
    },
    {
     "name": "stderr",
     "output_type": "stream",
     "text": [
      "100%|██████████| 7512046/7512046 [12:46<00:00, 9804.27it/s] \n"
     ]
    },
    {
     "name": "stdout",
     "output_type": "stream",
     "text": [
      "2023-09-01 23:51:05 -- The file 'filtered_walks.pkl' is ready, 7512046 walks in, 6642233 walks out\n",
      "2023-09-01 23:51:05 -- 3/7 years generated...\n",
      "2023-09-01 23:51:05 -- start loading walks...\n",
      "2023-09-01 23:51:40 -- finish.\n"
     ]
    },
    {
     "name": "stderr",
     "output_type": "stream",
     "text": [
      " 40%|███▉      | 5158944/13016157 [08:38<12:38, 10363.27it/s]"
     ]
    }
   ],
   "source": [
    "start_year_list = ['1950', '1960', '1970', '1980', '1990', '2000', '2010']\n",
    "end_year_list = ['1959', '1969', '1979', '1989', '1999', '2009', '2021']\n",
    "\n",
    "for i in range(0, 7):\n",
    "    model.load_walks(start_year_list[i], end_year_list[i])\n",
    "    with Pool() as pool:\n",
    "      filtered_walks = list(tqdm.tqdm(pool.imap(filter_walk, model.walks), total=len(model.walks)))\n",
    "    filtered_walks = [walk for walk in filtered_walks if walk]\n",
    "    with open('/media/sdb/p2v/pickles/decades/%s_to_%s/filtered_walks.pkl' %(start_year_list[i], end_year_list[i]), 'wb') as list_file:\n",
    "        pickle.dump(filtered_walks, list_file)\n",
    "    prinT(\"The file \\'filtered_walks.pkl\\' is ready, %d walks in, %d walks out\" %(len(model.walks), len(filtered_walks)))\n",
    "    prinT(\"{}/{} years generated...\".format(i+1, len(start_year_list)))\n",
    " "
   ]
  },
  {
   "cell_type": "code",
   "execution_count": 9,
   "id": "ebb587a0-06e5-4215-ac42-6a3ae4908618",
   "metadata": {},
   "outputs": [
    {
     "data": {
      "text/plain": [
       "107107571"
      ]
     },
     "execution_count": 9,
     "metadata": {},
     "output_type": "execute_result"
    }
   ],
   "source": [
    "len(filtered_walks)"
   ]
  }
 ],
 "metadata": {
  "kernelspec": {
   "display_name": "Python 3 (ipykernel)",
   "language": "python",
   "name": "python3"
  },
  "language_info": {
   "codemirror_mode": {
    "name": "ipython",
    "version": 3
   },
   "file_extension": ".py",
   "mimetype": "text/x-python",
   "name": "python",
   "nbconvert_exporter": "python",
   "pygments_lexer": "ipython3",
   "version": "3.10.12"
  }
 },
 "nbformat": 4,
 "nbformat_minor": 5
}
