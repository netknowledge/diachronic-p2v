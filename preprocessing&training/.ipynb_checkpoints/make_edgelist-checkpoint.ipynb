{
 "cells": [
  {
   "cell_type": "code",
   "execution_count": 1,
   "id": "2a2fc6cd-6c72-4b22-9786-4a93d51ac850",
   "metadata": {},
   "outputs": [],
   "source": [
    "%load_ext autoreload\n",
    "%autoreload 1"
   ]
  },
  {
   "cell_type": "code",
   "execution_count": 2,
   "id": "e3c75821-db60-41f6-bb5d-3792b75bd1f4",
   "metadata": {},
   "outputs": [],
   "source": [
    "import pandas as pd\n",
    "import numpy as np\n",
    "import networkx as nx\n",
    "import pickle\n",
    "import datetime\n",
    "from gensim.models import word2vec, KeyedVectors\n",
    "from sklearn.metrics.pairwise import cosine_similarity\n",
    "from multiprocessing import cpu_count\n",
    "from pandarallel import pandarallel\n",
    "import sys\n",
    "\n",
    "%aimport preprocessing\n",
    "%aimport utils\n",
    "%aimport p2v\n",
    "\n",
    "from utils import prinT\n",
    "import matplotlib.pyplot as plt\n",
    "import seaborn as sns\n",
    "%matplotlib inline\n",
    "\n",
    "pd.options.display.max_columns = None\n",
    "pd.set_option('max_colwidth', None)"
   ]
  },
  {
   "cell_type": "code",
   "execution_count": 3,
   "id": "efe56dc7-af51-42a6-be51-c63842080d34",
   "metadata": {},
   "outputs": [
    {
     "name": "stdout",
     "output_type": "stream",
     "text": [
      "2023-09-12 21:32:59 -- start loading Mag_venue_info_df\n",
      "2023-09-12 21:32:59 -- finish.\n",
      "2023-09-12 21:32:59 -- start loading labeled_journal_info_df\n",
      "2023-09-12 21:32:59 -- finish.\n"
     ]
    }
   ],
   "source": [
    "model = p2v.P2V()"
   ]
  },
  {
   "cell_type": "code",
   "execution_count": 4,
   "id": "c0fa6924-9a86-489e-bb58-84e5c6053425",
   "metadata": {},
   "outputs": [],
   "source": [
    "def PID2VID(PID: int):\n",
    "    return model.target_paper_df[model.target_paper_df.PaperID==PID].VenueID.values[0]"
   ]
  },
  {
   "cell_type": "code",
   "execution_count": 5,
   "id": "c00f247c-8dab-449e-b977-441f8eba965d",
   "metadata": {},
   "outputs": [
    {
     "name": "stdout",
     "output_type": "stream",
     "text": [
      "INFO: Pandarallel will run on 32 workers.\n",
      "INFO: Pandarallel will use Memory file system to transfer data between the main process and workers.\n"
     ]
    }
   ],
   "source": [
    "model.load_ref_df(full_load=False, start_year=1950, end_year=1959)\n",
    "target_ref_df = model.target_ref_df.reset_index()\n",
    "model.load_paper_df(full_load=False, start_year=1950, end_year=1959)\n",
    "\n",
    "p_ref_df = pd.DataFrame()\n",
    "pandarallel.initialize()\n",
    "p_ref_df['citing_VID'] = target_ref_df.PaperID.parallel_apply(PID2VID)\n",
    "p_ref_df['cited_VID'] = target_ref_df.PaperReferenceID.parallel_apply(PID2VID)"
   ]
  },
  {
   "cell_type": "code",
   "execution_count": 24,
   "id": "57a7ba43-c99b-4beb-bd31-7fff2adb4f7c",
   "metadata": {},
   "outputs": [],
   "source": [
    "p_ref_df.loc[:,'citing_venue_name'] = p_ref_df['citing_VID'].apply(lambda x: model.MAG_venue_info_df.at[x, 'OriginalVenue'])\n",
    "p_ref_df.loc[:,'cited_venue_name'] = p_ref_df['cited_VID'].apply(lambda x: model.MAG_venue_info_df.at[x, 'OriginalVenue'])"
   ]
  },
  {
   "cell_type": "code",
   "execution_count": 64,
   "id": "f8b17fcc-0456-4c16-96fc-9c0ea97205a8",
   "metadata": {
    "scrolled": true
   },
   "outputs": [],
   "source": [
    "venue_name2NID_df = pd.DataFrame(set(list(pd.unique(p_ref_df['citing_venue_name'])) + list(pd.unique(p_ref_df['cited_venue_name']))), \n",
    "                                 columns=['venue_name']).reset_index(names='NID').set_index('venue_name')"
   ]
  },
  {
   "cell_type": "code",
   "execution_count": 65,
   "id": "3290d155-5c91-4f9f-8d15-ecdfbb01f83b",
   "metadata": {},
   "outputs": [],
   "source": [
    "p_ref_df.loc[:,'citing_NID'] = p_ref_df['citing_venue_name'].apply(lambda x:venue_name2NID_df.at[x, 'NID'])\n",
    "p_ref_df.loc[:,'cited_NID'] = p_ref_df['cited_venue_name'].apply(lambda x: venue_name2NID_df.at[x, 'NID'])"
   ]
  },
  {
   "cell_type": "code",
   "execution_count": 54,
   "id": "bc8ca776-400d-490c-ae66-0002b2f7d287",
   "metadata": {},
   "outputs": [],
   "source": [
    "np.savetxt('test.txt', p_ref_df[['citing_NID', 'cited_NID']].values, fmt='%i')"
   ]
  },
  {
   "cell_type": "code",
   "execution_count": 73,
   "id": "f256f080-42a3-425e-a79f-cb0ea475ca6b",
   "metadata": {},
   "outputs": [
    {
     "data": {
      "text/html": [
       "<div>\n",
       "<style scoped>\n",
       "    .dataframe tbody tr th:only-of-type {\n",
       "        vertical-align: middle;\n",
       "    }\n",
       "\n",
       "    .dataframe tbody tr th {\n",
       "        vertical-align: top;\n",
       "    }\n",
       "\n",
       "    .dataframe thead th {\n",
       "        text-align: right;\n",
       "    }\n",
       "</style>\n",
       "<table border=\"1\" class=\"dataframe\">\n",
       "  <thead>\n",
       "    <tr style=\"text-align: right;\">\n",
       "      <th></th>\n",
       "      <th>NID</th>\n",
       "    </tr>\n",
       "    <tr>\n",
       "      <th>venue_name</th>\n",
       "      <th></th>\n",
       "    </tr>\n",
       "  </thead>\n",
       "  <tbody>\n",
       "    <tr>\n",
       "      <th>0</th>\n",
       "      <td>0</td>\n",
       "    </tr>\n",
       "    <tr>\n",
       "      <th>McGill medical journal</th>\n",
       "      <td>1</td>\n",
       "    </tr>\n",
       "    <tr>\n",
       "      <th>Memoirs of the American Mathematical Society</th>\n",
       "      <td>2</td>\n",
       "    </tr>\n",
       "    <tr>\n",
       "      <th>Tribology Transactions</th>\n",
       "      <td>3</td>\n",
       "    </tr>\n",
       "    <tr>\n",
       "      <th>Czechoslovak Mathematical Journal</th>\n",
       "      <td>4</td>\n",
       "    </tr>\n",
       "    <tr>\n",
       "      <th>...</th>\n",
       "      <td>...</td>\n",
       "    </tr>\n",
       "    <tr>\n",
       "      <th>Medicinski Glasnik</th>\n",
       "      <td>3255</td>\n",
       "    </tr>\n",
       "    <tr>\n",
       "      <th>Annals of Human Genetics</th>\n",
       "      <td>3256</td>\n",
       "    </tr>\n",
       "    <tr>\n",
       "      <th>Japanese Journal of Infectious Diseases</th>\n",
       "      <td>3257</td>\n",
       "    </tr>\n",
       "    <tr>\n",
       "      <th>Annals of tuberculosis</th>\n",
       "      <td>3258</td>\n",
       "    </tr>\n",
       "    <tr>\n",
       "      <th>Nederlands tijdschrift voor de psychologie en haar grensgebieden</th>\n",
       "      <td>3259</td>\n",
       "    </tr>\n",
       "  </tbody>\n",
       "</table>\n",
       "<p>3260 rows × 1 columns</p>\n",
       "</div>"
      ],
      "text/plain": [
       "                                                                   NID\n",
       "venue_name                                                            \n",
       "0                                                                    0\n",
       "McGill medical journal                                               1\n",
       "Memoirs of the American Mathematical Society                         2\n",
       "Tribology Transactions                                               3\n",
       "Czechoslovak Mathematical Journal                                    4\n",
       "...                                                                ...\n",
       "Medicinski Glasnik                                                3255\n",
       "Annals of Human Genetics                                          3256\n",
       "Japanese Journal of Infectious Diseases                           3257\n",
       "Annals of tuberculosis                                            3258\n",
       "Nederlands tijdschrift voor de psychologie en haar grensgebieden  3259\n",
       "\n",
       "[3260 rows x 1 columns]"
      ]
     },
     "execution_count": 73,
     "metadata": {},
     "output_type": "execute_result"
    }
   ],
   "source": [
    "venue_name2NID_df"
   ]
  },
  {
   "cell_type": "code",
   "execution_count": 68,
   "id": "4127eb50-7353-4195-a4e1-2a1942a3be62",
   "metadata": {},
   "outputs": [
    {
     "data": {
      "text/plain": [
       "1631"
      ]
     },
     "execution_count": 68,
     "metadata": {},
     "output_type": "execute_result"
    }
   ],
   "source": [
    "venue_name2NID_df.at['Nature', 'NID']"
   ]
  },
  {
   "cell_type": "code",
   "execution_count": 69,
   "id": "5c39ed3b-a5cd-43cf-a50e-08b19f776f7b",
   "metadata": {},
   "outputs": [
    {
     "data": {
      "text/html": [
       "<div>\n",
       "<style scoped>\n",
       "    .dataframe tbody tr th:only-of-type {\n",
       "        vertical-align: middle;\n",
       "    }\n",
       "\n",
       "    .dataframe tbody tr th {\n",
       "        vertical-align: top;\n",
       "    }\n",
       "\n",
       "    .dataframe thead th {\n",
       "        text-align: right;\n",
       "    }\n",
       "</style>\n",
       "<table border=\"1\" class=\"dataframe\">\n",
       "  <thead>\n",
       "    <tr style=\"text-align: right;\">\n",
       "      <th></th>\n",
       "      <th>network_index</th>\n",
       "    </tr>\n",
       "    <tr>\n",
       "      <th>venue_name</th>\n",
       "      <th></th>\n",
       "    </tr>\n",
       "  </thead>\n",
       "  <tbody>\n",
       "    <tr>\n",
       "      <th>Philosophy</th>\n",
       "      <td>3202</td>\n",
       "    </tr>\n",
       "  </tbody>\n",
       "</table>\n",
       "</div>"
      ],
      "text/plain": [
       "            network_index\n",
       "venue_name               \n",
       "Philosophy           3202"
      ]
     },
     "execution_count": 69,
     "metadata": {},
     "output_type": "execute_result"
    }
   ],
   "source": [
    "vname2NID_df[vname2NID_df.network_index == 3202]"
   ]
  },
  {
   "cell_type": "code",
   "execution_count": 70,
   "id": "5cfb2929-764d-48a2-82c7-ca48b0b97eb8",
   "metadata": {},
   "outputs": [
    {
     "data": {
      "text/html": [
       "<div>\n",
       "<style scoped>\n",
       "    .dataframe tbody tr th:only-of-type {\n",
       "        vertical-align: middle;\n",
       "    }\n",
       "\n",
       "    .dataframe tbody tr th {\n",
       "        vertical-align: top;\n",
       "    }\n",
       "\n",
       "    .dataframe thead th {\n",
       "        text-align: right;\n",
       "    }\n",
       "</style>\n",
       "<table border=\"1\" class=\"dataframe\">\n",
       "  <thead>\n",
       "    <tr style=\"text-align: right;\">\n",
       "      <th></th>\n",
       "      <th>network_index</th>\n",
       "    </tr>\n",
       "    <tr>\n",
       "      <th>venue_name</th>\n",
       "      <th></th>\n",
       "    </tr>\n",
       "  </thead>\n",
       "  <tbody>\n",
       "    <tr>\n",
       "      <th>Journal of Biblical Literature</th>\n",
       "      <td>2359</td>\n",
       "    </tr>\n",
       "  </tbody>\n",
       "</table>\n",
       "</div>"
      ],
      "text/plain": [
       "                                network_index\n",
       "venue_name                                   \n",
       "Journal of Biblical Literature           2359"
      ]
     },
     "execution_count": 70,
     "metadata": {},
     "output_type": "execute_result"
    }
   ],
   "source": [
    "vname2NID_df[vname2NID_df.network_index == 2359]"
   ]
  },
  {
   "cell_type": "code",
   "execution_count": 71,
   "id": "bdda7e5a-325e-4440-aa81-7c02a17329b8",
   "metadata": {},
   "outputs": [
    {
     "data": {
      "text/html": [
       "<div>\n",
       "<style scoped>\n",
       "    .dataframe tbody tr th:only-of-type {\n",
       "        vertical-align: middle;\n",
       "    }\n",
       "\n",
       "    .dataframe tbody tr th {\n",
       "        vertical-align: top;\n",
       "    }\n",
       "\n",
       "    .dataframe thead th {\n",
       "        text-align: right;\n",
       "    }\n",
       "</style>\n",
       "<table border=\"1\" class=\"dataframe\">\n",
       "  <thead>\n",
       "    <tr style=\"text-align: right;\">\n",
       "      <th></th>\n",
       "      <th>network_index</th>\n",
       "    </tr>\n",
       "    <tr>\n",
       "      <th>venue_name</th>\n",
       "      <th></th>\n",
       "    </tr>\n",
       "  </thead>\n",
       "  <tbody>\n",
       "    <tr>\n",
       "      <th>Pacific Journal of Mathematics</th>\n",
       "      <td>35</td>\n",
       "    </tr>\n",
       "  </tbody>\n",
       "</table>\n",
       "</div>"
      ],
      "text/plain": [
       "                                network_index\n",
       "venue_name                                   \n",
       "Pacific Journal of Mathematics             35"
      ]
     },
     "execution_count": 71,
     "metadata": {},
     "output_type": "execute_result"
    }
   ],
   "source": [
    "vname2NID_df[vname2NID_df.network_index == 35]"
   ]
  },
  {
   "cell_type": "code",
   "execution_count": 72,
   "id": "47050d3b-8798-4f2b-936c-9182013368ae",
   "metadata": {},
   "outputs": [
    {
     "data": {
      "text/html": [
       "<div>\n",
       "<style scoped>\n",
       "    .dataframe tbody tr th:only-of-type {\n",
       "        vertical-align: middle;\n",
       "    }\n",
       "\n",
       "    .dataframe tbody tr th {\n",
       "        vertical-align: top;\n",
       "    }\n",
       "\n",
       "    .dataframe thead th {\n",
       "        text-align: right;\n",
       "    }\n",
       "</style>\n",
       "<table border=\"1\" class=\"dataframe\">\n",
       "  <thead>\n",
       "    <tr style=\"text-align: right;\">\n",
       "      <th></th>\n",
       "      <th>network_index</th>\n",
       "    </tr>\n",
       "    <tr>\n",
       "      <th>venue_name</th>\n",
       "      <th></th>\n",
       "    </tr>\n",
       "  </thead>\n",
       "  <tbody>\n",
       "    <tr>\n",
       "      <th>Botanica Marina</th>\n",
       "      <td>307</td>\n",
       "    </tr>\n",
       "  </tbody>\n",
       "</table>\n",
       "</div>"
      ],
      "text/plain": [
       "                 network_index\n",
       "venue_name                    \n",
       "Botanica Marina            307"
      ]
     },
     "execution_count": 72,
     "metadata": {},
     "output_type": "execute_result"
    }
   ],
   "source": [
    "vname2NID_df[vname2NID_df.network_index == 307]"
   ]
  }
 ],
 "metadata": {
  "kernelspec": {
   "display_name": "Python 3 (ipykernel)",
   "language": "python",
   "name": "python3"
  },
  "language_info": {
   "codemirror_mode": {
    "name": "ipython",
    "version": 3
   },
   "file_extension": ".py",
   "mimetype": "text/x-python",
   "name": "python",
   "nbconvert_exporter": "python",
   "pygments_lexer": "ipython3",
   "version": "3.10.12"
  }
 },
 "nbformat": 4,
 "nbformat_minor": 5
}
