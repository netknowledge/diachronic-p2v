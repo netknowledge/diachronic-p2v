{
 "cells": [
  {
   "cell_type": "code",
   "execution_count": 1,
   "id": "11377be8-9478-4399-ae8c-5a58efdb1be3",
   "metadata": {},
   "outputs": [],
   "source": [
    "%load_ext autoreload\n",
    "%autoreload 1"
   ]
  },
  {
   "cell_type": "code",
   "execution_count": 2,
   "id": "c148c481-2662-47cf-808a-503965bab77d",
   "metadata": {},
   "outputs": [],
   "source": [
    "import sys \n",
    "sys.path.append(\"..\") \n",
    "\n",
    "%aimport p2v"
   ]
  },
  {
   "cell_type": "code",
   "execution_count": 3,
   "id": "00b7d01d-8c60-429f-9b26-f98aba69b107",
   "metadata": {},
   "outputs": [
    {
     "name": "stdout",
     "output_type": "stream",
     "text": [
      "2023-09-02 16:33:16 -- start loading Mag_venue_info_df\n",
      "2023-09-02 16:33:16 -- finish.\n",
      "2023-09-02 16:33:16 -- start loading labeled_journal_info_df\n",
      "2023-09-02 16:33:16 -- finish.\n"
     ]
    }
   ],
   "source": [
    "model = p2v.P2V()"
   ]
  },
  {
   "cell_type": "code",
   "execution_count": 5,
   "id": "6385de12-3777-45ec-aacb-9c1403766fde",
   "metadata": {},
   "outputs": [
    {
     "name": "stdout",
     "output_type": "stream",
     "text": [
      "2023-09-02 16:35:36 -- start loading filtered walks...\n",
      "2023-09-02 16:36:52 -- finish.\n",
      "2023-09-02 16:36:52 -- Training model for papers from 1990 to 1999...\n",
      "2023-09-02 16:43:46 -- done and saved model (100feat_10context_win_size) to file!\n"
     ]
    }
   ],
   "source": [
    "start_year = 1990\n",
    "end_year = 1999\n",
    "num_features = 100\n",
    "context_win_size = 10\n",
    "model.train_w2v_for_a_decade(start_year, end_year, \n",
    "                             num_features=num_features, context_win_size=context_win_size,\n",
    "                             use_filtered_walks=True\n",
    "                            )"
   ]
  },
  {
   "cell_type": "code",
   "execution_count": null,
   "id": "bd6ec734-2070-4c20-be08-eda646523eb1",
   "metadata": {},
   "outputs": [],
   "source": []
  }
 ],
 "metadata": {
  "kernelspec": {
   "display_name": "Python 3 (ipykernel)",
   "language": "python",
   "name": "python3"
  },
  "language_info": {
   "codemirror_mode": {
    "name": "ipython",
    "version": 3
   },
   "file_extension": ".py",
   "mimetype": "text/x-python",
   "name": "python",
   "nbconvert_exporter": "python",
   "pygments_lexer": "ipython3",
   "version": "3.10.12"
  }
 },
 "nbformat": 4,
 "nbformat_minor": 5
}
