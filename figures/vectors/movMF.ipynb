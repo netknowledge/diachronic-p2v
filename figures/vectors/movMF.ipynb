{
 "cells": [
  {
   "cell_type": "code",
   "execution_count": 2,
   "metadata": {},
   "outputs": [],
   "source": [
    "%load_ext autoreload\n",
    "%autoreload 1"
   ]
  },
  {
   "cell_type": "markdown",
   "metadata": {},
   "source": [
    "# Clustering"
   ]
  },
  {
   "cell_type": "markdown",
   "metadata": {},
   "source": [
    "Run this section using ```spherecluster``` env"
   ]
  },
  {
   "cell_type": "markdown",
   "metadata": {},
   "source": [
    "## Demo"
   ]
  },
  {
   "cell_type": "code",
   "execution_count": 2,
   "metadata": {},
   "outputs": [],
   "source": [
    "import pickle\n",
    "\n",
    "start_year = 1950\n",
    "end_year = 1959\n",
    "d = 100\n",
    "w = 10\n",
    "\n",
    "with open(f'../../data/decades/{start_year}_to_{end_year}/VIDs_{d}feat_{w}context_win_size.pkl', \n",
    "          'rb') as f:\n",
    "        VIDs = pickle.load(f)\n",
    "\n",
    "with open(f'../../data/decades/{start_year}_to_{end_year}/vectors_{d}feat_{w}context_win_size.pkl', \n",
    "            'rb') as f:\n",
    "        vectors = pickle.load(f)"
   ]
  },
  {
   "cell_type": "code",
   "execution_count": 4,
   "metadata": {},
   "outputs": [
    {
     "name": "stderr",
     "output_type": "stream",
     "text": [
      "/home/lyuzhuoqi/miniconda3/envs/spherecluster/lib/python3.7/site-packages/spherecluster-0.1.7-py3.7.egg/spherecluster/von_mises_fisher_mixture.py:344: RuntimeWarning: invalid value encountered in double_scalars\n",
      "/home/lyuzhuoqi/miniconda3/envs/spherecluster/lib/python3.7/site-packages/spherecluster-0.1.7-py3.7.egg/spherecluster/von_mises_fisher_mixture.py:288: RuntimeWarning: divide by zero encountered in log\n"
     ]
    },
    {
     "data": {
      "text/plain": [
       "VonMisesFisherMixture(copy_x=True, force_weights=None, init='random-class',\n",
       "           max_iter=300, n_clusters=26, n_init=10, n_jobs=1,\n",
       "           normalize=True, posterior_type='hard', random_state=None,\n",
       "           tol=1e-06, verbose=False)"
      ]
     },
     "execution_count": 4,
     "metadata": {},
     "output_type": "execute_result"
    }
   ],
   "source": [
    "from spherecluster import VonMisesFisherMixture\n",
    "K = 26\n",
    "vmf_hard = VonMisesFisherMixture(n_clusters=K, posterior_type='hard')\n",
    "vmf_hard.fit(vectors)"
   ]
  },
  {
   "cell_type": "code",
   "execution_count": 6,
   "metadata": {},
   "outputs": [
    {
     "data": {
      "text/plain": [
       "array([24., 24.,  5., ...,  3., 10., 18.])"
      ]
     },
     "execution_count": 6,
     "metadata": {},
     "output_type": "execute_result"
    }
   ],
   "source": [
    "vmf_hard.labels_"
   ]
  },
  {
   "cell_type": "code",
   "execution_count": 10,
   "metadata": {},
   "outputs": [
    {
     "data": {
      "text/plain": [
       "array([[-0.02536224,  0.05834802,  0.09436964, ..., -0.26021897,\n",
       "        -0.07516032, -0.0265524 ],\n",
       "       [ 0.18344244,  0.04394991,  0.0201354 , ..., -0.07530757,\n",
       "        -0.02505317, -0.06111693],\n",
       "       [ 0.09488648,  0.03388972,  0.07732126, ..., -0.04086915,\n",
       "         0.00894189,  0.00271343],\n",
       "       ...,\n",
       "       [ 0.05114527, -0.03031565, -0.06258504, ..., -0.13360498,\n",
       "         0.08040952, -0.00753947],\n",
       "       [-0.00095778,  0.08270476,  0.14501849, ..., -0.09827794,\n",
       "        -0.09393919,  0.03311429],\n",
       "       [ 0.0016818 , -0.03820678,  0.04429099, ..., -0.2287281 ,\n",
       "         0.00208398, -0.13259435]])"
      ]
     },
     "execution_count": 10,
     "metadata": {},
     "output_type": "execute_result"
    }
   ],
   "source": [
    "vmf_hard.cluster_centers_"
   ]
  },
  {
   "cell_type": "markdown",
   "metadata": {},
   "source": [
    "## Loop"
   ]
  },
  {
   "cell_type": "code",
   "execution_count": 14,
   "metadata": {},
   "outputs": [
    {
     "name": "stdout",
     "output_type": "stream",
     "text": [
      "working on 1950s\n"
     ]
    },
    {
     "name": "stderr",
     "output_type": "stream",
     "text": [
      "/home/lyuzhuoqi/miniconda3/envs/spherecluster/lib/python3.7/site-packages/spherecluster-0.1.7-py3.7.egg/spherecluster/von_mises_fisher_mixture.py:344: RuntimeWarning: invalid value encountered in double_scalars\n",
      "/home/lyuzhuoqi/miniconda3/envs/spherecluster/lib/python3.7/site-packages/spherecluster-0.1.7-py3.7.egg/spherecluster/von_mises_fisher_mixture.py:288: RuntimeWarning: divide by zero encountered in log\n"
     ]
    },
    {
     "name": "stdout",
     "output_type": "stream",
     "text": [
      "finish dumping 1950s\n",
      "working on 1960s\n",
      "finish dumping 1960s\n",
      "working on 1970s\n",
      "finish dumping 1970s\n",
      "working on 1980s\n",
      "finish dumping 1980s\n",
      "working on 1990s\n",
      "finish dumping 1990s\n",
      "working on 2000s\n",
      "finish dumping 2000s\n",
      "working on 2010s\n",
      "finish dumping 2010s\n"
     ]
    }
   ],
   "source": [
    "import pickle\n",
    "from spherecluster import VonMisesFisherMixture\n",
    "d, w = 100, 10\n",
    "K = 26\n",
    "\n",
    "for start_year, end_year in zip([1950, 1960, 1970, 1980, 1990, 2000, 2010], \n",
    "                                [1959, 1969, 1979, 1989, 1999, 2009, 2021]):\n",
    "    print(f'working on {start_year}s')\n",
    "    with open(f'../../data/decades/{start_year}_to_{end_year}/vectors_{d}feat_{w}context_win_size.pkl', \n",
    "            'rb') as f:\n",
    "           vectors = pickle.load(f)\n",
    "    vmf_hard = VonMisesFisherMixture(n_clusters=K, posterior_type='hard')\n",
    "    vmf_hard.fit(vectors)\n",
    "    with open(f'../../data/decades/{start_year}_to_{end_year}/cluster_labels_{d}feat_{w}context_win_size.pkl', \n",
    "            'wb') as f:\n",
    "           pickle.dump(vmf_hard.labels_,f)\n",
    "    with open(f'../../data/decades/{start_year}_to_{end_year}/cluster_centers_{d}feat_{w}context_win_size.pkl', \n",
    "                'wb') as f:\n",
    "            pickle.dump(vmf_hard.cluster_centers_, f)\n",
    "    print(f'finish dumping {start_year}s')"
   ]
  },
  {
   "cell_type": "markdown",
   "metadata": {},
   "source": [
    "# Analysis"
   ]
  },
  {
   "cell_type": "markdown",
   "metadata": {},
   "source": [
    "Run this section using any env with ```p2v```"
   ]
  },
  {
   "cell_type": "markdown",
   "metadata": {},
   "source": [
    "## Demo"
   ]
  },
  {
   "cell_type": "code",
   "execution_count": 5,
   "metadata": {},
   "outputs": [
    {
     "name": "stdout",
     "output_type": "stream",
     "text": [
      "data_dir:  /mnt/d/projects/diachronic-p2v/data\n",
      "2024-11-16 13:01:34 -- start loading Mag_venue_info_df\n",
      "2024-11-16 13:01:35 -- finish.\n",
      "2024-11-16 13:01:35 -- start loading labeled_journal_info_df\n",
      "2024-11-16 13:01:35 -- finish.\n"
     ]
    }
   ],
   "source": [
    "import sys\n",
    "sys.path.append('diachronic-p2v')\n",
    "\n",
    "%aimport p2v\n",
    "model = p2v.P2V()"
   ]
  },
  {
   "cell_type": "code",
   "execution_count": 38,
   "metadata": {},
   "outputs": [
    {
     "name": "stdout",
     "output_type": "stream",
     "text": [
      "2024-11-16 13:27:37 -- start loading word vectors...\n",
      "2024-11-16 13:27:37 -- word vectors loaded, and its shape is: (1645, 100)\n",
      "2024-11-16 13:27:37 -- start loading VID_labeled...\n",
      "2024-11-16 13:27:37 -- finish.\n"
     ]
    }
   ],
   "source": [
    "import pickle\n",
    "\n",
    "start_year, end_year = 1950, 1959\n",
    "d, w = 100, 10\n",
    "\n",
    "wv = model.load_wv(start_year, end_year, d, w)\n",
    "all_VIDs = wv.index_to_key\n",
    "all_vectors = wv.get_normed_vectors()\n",
    "VIDs_labeled = model.load_VID_labeled(start_year, end_year, d, w)\n",
    "\n",
    "with open(f'diachronic-p2v/data/decades/{start_year}_to_{end_year}/cluster_labels_{d}feat_{w}context_win_size.pkl', \n",
    "        'rb') as f:\n",
    "        vmf_labels = pickle.load(f)\n",
    "with open(f'diachronic-p2v/data/decades/{start_year}_to_{end_year}/cluster_centers_{d}feat_{w}context_win_size.pkl', \n",
    "        'rb') as f:\n",
    "        cluster_centers = pickle.load(f)"
   ]
  },
  {
   "cell_type": "code",
   "execution_count": null,
   "metadata": {},
   "outputs": [
    {
     "data": {
      "text/plain": [
       "1645"
      ]
     },
     "execution_count": 20,
     "metadata": {},
     "output_type": "execute_result"
    }
   ],
   "source": [
    "len(all_VIDs)\n",
    "len(VIDs_labeled['VID'])\n",
    "len(vmf_labels)"
   ]
  },
  {
   "cell_type": "code",
   "execution_count": 39,
   "metadata": {},
   "outputs": [
    {
     "data": {
      "text/plain": [
       "1253"
      ]
     },
     "execution_count": 39,
     "metadata": {},
     "output_type": "execute_result"
    }
   ],
   "source": [
    "valid_VID_idx = [VIDs.index(vid) for vid in VIDs_labeled['VID']]\n",
    "len(valid_VID_idx)"
   ]
  },
  {
   "cell_type": "code",
   "execution_count": 29,
   "metadata": {},
   "outputs": [],
   "source": [
    "import pandas as pd\n",
    "\n",
    "cluster_df = pd.DataFrame({'VID': [VIDs[idx] for idx in valid_VID_idx], \n",
    "                           'Scopus_label': VIDs_labeled['label'],\n",
    "                           'cluster_label': [vmf_labels[idx] for idx in valid_VID_idx]})"
   ]
  },
  {
   "cell_type": "code",
   "execution_count": 32,
   "metadata": {},
   "outputs": [],
   "source": [
    "from clusim.clustering import Clustering\n",
    "import clusim.sim as sim\n",
    "\n",
    "# Key: row index, val: value of 'area' column\n",
    "dict_original = {index: [row['Scopus_label']] for index, row in cluster_df.iterrows()}\n",
    "# Key: row index, val: value of 'cluster_label' column\n",
    "dict_clustering = {index: [row['cluster_label']] for index, row in cluster_df.iterrows()}\n",
    "\n",
    "c_original = Clustering(elm2clu_dict = dict_original)\n",
    "c_clustering = Clustering(elm2clu_dict = dict_clustering)\n",
    "\n",
    "elementScores, relabeled_elements = sim.element_sim_elscore(c_original, c_clustering, alpha = 0.9)\n",
    "cluster_df['sim_score'] = elementScores"
   ]
  },
  {
   "cell_type": "code",
   "execution_count": 42,
   "metadata": {},
   "outputs": [],
   "source": [
    "import numpy as np\n",
    "\n",
    "vectors = all_vectors[valid_VID_idx]\n",
    "distances = 1 - np.dot(vectors, cluster_centers.T)\n",
    "closest_center_distances = np.min(distances, axis=1)\n",
    "cluster_df['closest_center_distance'] = closest_center_distances\n"
   ]
  },
  {
   "cell_type": "code",
   "execution_count": 43,
   "metadata": {},
   "outputs": [
    {
     "data": {
      "text/html": [
       "<div>\n",
       "<style scoped>\n",
       "    .dataframe tbody tr th:only-of-type {\n",
       "        vertical-align: middle;\n",
       "    }\n",
       "\n",
       "    .dataframe tbody tr th {\n",
       "        vertical-align: top;\n",
       "    }\n",
       "\n",
       "    .dataframe thead th {\n",
       "        text-align: right;\n",
       "    }\n",
       "</style>\n",
       "<table border=\"1\" class=\"dataframe\">\n",
       "  <thead>\n",
       "    <tr style=\"text-align: right;\">\n",
       "      <th></th>\n",
       "      <th>VID</th>\n",
       "      <th>Scopus_label</th>\n",
       "      <th>cluster_label</th>\n",
       "      <th>sim_score</th>\n",
       "      <th>closest_center_distance</th>\n",
       "    </tr>\n",
       "  </thead>\n",
       "  <tbody>\n",
       "    <tr>\n",
       "      <th>0</th>\n",
       "      <td>1.377736e+08</td>\n",
       "      <td>Multidisciplinary</td>\n",
       "      <td>18.0</td>\n",
       "      <td>0.065789</td>\n",
       "      <td>0.422928</td>\n",
       "    </tr>\n",
       "    <tr>\n",
       "      <th>1</th>\n",
       "      <td>1.402520e+08</td>\n",
       "      <td>Biochemistry, Genetics and Molecular Biology</td>\n",
       "      <td>5.0</td>\n",
       "      <td>0.185714</td>\n",
       "      <td>0.253940</td>\n",
       "    </tr>\n",
       "    <tr>\n",
       "      <th>2</th>\n",
       "      <td>1.111554e+08</td>\n",
       "      <td>Biochemistry, Genetics and Molecular Biology</td>\n",
       "      <td>5.0</td>\n",
       "      <td>0.185714</td>\n",
       "      <td>0.248420</td>\n",
       "    </tr>\n",
       "    <tr>\n",
       "      <th>3</th>\n",
       "      <td>5.486237e+07</td>\n",
       "      <td>Physics and Astronomy</td>\n",
       "      <td>0.0</td>\n",
       "      <td>0.666667</td>\n",
       "      <td>0.155218</td>\n",
       "    </tr>\n",
       "    <tr>\n",
       "      <th>4</th>\n",
       "      <td>3.880285e+06</td>\n",
       "      <td>Multidisciplinary</td>\n",
       "      <td>18.0</td>\n",
       "      <td>0.065789</td>\n",
       "      <td>0.437083</td>\n",
       "    </tr>\n",
       "    <tr>\n",
       "      <th>...</th>\n",
       "      <td>...</td>\n",
       "      <td>...</td>\n",
       "      <td>...</td>\n",
       "      <td>...</td>\n",
       "      <td>...</td>\n",
       "    </tr>\n",
       "    <tr>\n",
       "      <th>1248</th>\n",
       "      <td>1.079145e+08</td>\n",
       "      <td>Social Sciences</td>\n",
       "      <td>12.0</td>\n",
       "      <td>0.186992</td>\n",
       "      <td>0.073006</td>\n",
       "    </tr>\n",
       "    <tr>\n",
       "      <th>1249</th>\n",
       "      <td>1.769740e+08</td>\n",
       "      <td>Arts and Humanities</td>\n",
       "      <td>12.0</td>\n",
       "      <td>0.574074</td>\n",
       "      <td>0.108681</td>\n",
       "    </tr>\n",
       "    <tr>\n",
       "      <th>1250</th>\n",
       "      <td>2.764621e+09</td>\n",
       "      <td>Agricultural and Biological Sciences</td>\n",
       "      <td>2.0</td>\n",
       "      <td>0.177215</td>\n",
       "      <td>0.096499</td>\n",
       "    </tr>\n",
       "    <tr>\n",
       "      <th>1251</th>\n",
       "      <td>2.483219e+09</td>\n",
       "      <td>Agricultural and Biological Sciences</td>\n",
       "      <td>2.0</td>\n",
       "      <td>0.177215</td>\n",
       "      <td>0.106651</td>\n",
       "    </tr>\n",
       "    <tr>\n",
       "      <th>1252</th>\n",
       "      <td>9.874172e+07</td>\n",
       "      <td>Arts and Humanities</td>\n",
       "      <td>1.0</td>\n",
       "      <td>0.083333</td>\n",
       "      <td>0.175729</td>\n",
       "    </tr>\n",
       "  </tbody>\n",
       "</table>\n",
       "<p>1253 rows × 5 columns</p>\n",
       "</div>"
      ],
      "text/plain": [
       "               VID                                  Scopus_label  \\\n",
       "0     1.377736e+08                             Multidisciplinary   \n",
       "1     1.402520e+08  Biochemistry, Genetics and Molecular Biology   \n",
       "2     1.111554e+08  Biochemistry, Genetics and Molecular Biology   \n",
       "3     5.486237e+07                         Physics and Astronomy   \n",
       "4     3.880285e+06                             Multidisciplinary   \n",
       "...            ...                                           ...   \n",
       "1248  1.079145e+08                               Social Sciences   \n",
       "1249  1.769740e+08                           Arts and Humanities   \n",
       "1250  2.764621e+09          Agricultural and Biological Sciences   \n",
       "1251  2.483219e+09          Agricultural and Biological Sciences   \n",
       "1252  9.874172e+07                           Arts and Humanities   \n",
       "\n",
       "      cluster_label  sim_score  closest_center_distance  \n",
       "0              18.0   0.065789                 0.422928  \n",
       "1               5.0   0.185714                 0.253940  \n",
       "2               5.0   0.185714                 0.248420  \n",
       "3               0.0   0.666667                 0.155218  \n",
       "4              18.0   0.065789                 0.437083  \n",
       "...             ...        ...                      ...  \n",
       "1248           12.0   0.186992                 0.073006  \n",
       "1249           12.0   0.574074                 0.108681  \n",
       "1250            2.0   0.177215                 0.096499  \n",
       "1251            2.0   0.177215                 0.106651  \n",
       "1252            1.0   0.083333                 0.175729  \n",
       "\n",
       "[1253 rows x 5 columns]"
      ]
     },
     "execution_count": 43,
     "metadata": {},
     "output_type": "execute_result"
    }
   ],
   "source": [
    "cluster_df"
   ]
  },
  {
   "cell_type": "code",
   "execution_count": 45,
   "metadata": {},
   "outputs": [
    {
     "data": {
      "text/plain": [
       "<Axes: xlabel='sim_score', ylabel='Count'>"
      ]
     },
     "execution_count": 45,
     "metadata": {},
     "output_type": "execute_result"
    },
    {
     "data": {
      "image/png": "[encoded data removed]",
      "text/plain": [
       "<Figure size 640x480 with 1 Axes>"
      ]
     },
     "metadata": {},
     "output_type": "display_data"
    }
   ],
   "source": [
    "import seaborn as sns\n",
    "\n",
    "sns.histplot(cluster_df.sim_score)"
   ]
  },
  {
   "cell_type": "code",
   "execution_count": 46,
   "metadata": {},
   "outputs": [
    {
     "data": {
      "text/plain": [
       "<Axes: xlabel='closest_center_distance', ylabel='Count'>"
      ]
     },
     "execution_count": 46,
     "metadata": {},
     "output_type": "execute_result"
    },
    {
     "data": {
      "image/png": "[encoded data removed]",
      "text/plain": [
       "<Figure size 640x480 with 1 Axes>"
      ]
     },
     "metadata": {},
     "output_type": "display_data"
    }
   ],
   "source": [
    "sns.histplot(cluster_df.closest_center_distance)"
   ]
  },
  {
   "cell_type": "code",
   "execution_count": 51,
   "metadata": {},
   "outputs": [
    {
     "name": "stdout",
     "output_type": "stream",
     "text": [
      "2024-11-16 13:35:40 -- start loading wv_2d...\n",
      "2024-11-16 13:35:40 -- finish.\n"
     ]
    },
    {
     "data": {
      "text/plain": [
       "1645"
      ]
     },
     "execution_count": 51,
     "metadata": {},
     "output_type": "execute_result"
    }
   ],
   "source": [
    "wv_2d = model.load_wv_2d(start_year, end_year, d, w)\n",
    "len(wv_2d['VID'])"
   ]
  }
 ],
 "metadata": {
  "kernelspec": {
   "display_name": "Python 3 (ipykernel)",
   "language": "python",
   "name": "python3"
  },
  "language_info": {
   "codemirror_mode": {
    "name": "ipython",
    "version": 3
   },
   "file_extension": ".py",
   "mimetype": "text/x-python",
   "name": "python",
   "nbconvert_exporter": "python",
   "pygments_lexer": "ipython3",
   "version": "3.11.8"
  }
 },
 "nbformat": 4,
 "nbformat_minor": 2
}
