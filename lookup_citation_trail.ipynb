{
 "cells": [
  {
   "cell_type": "code",
   "execution_count": 1,
   "id": "c3b75322-19d8-4f4b-acd5-bd8b062f31cc",
   "metadata": {},
   "outputs": [],
   "source": [
    "%load_ext autoreload\n",
    "%autoreload 1"
   ]
  },
  {
   "cell_type": "code",
   "execution_count": 34,
   "id": "bb3d5b2a-a95f-4e04-892a-42da8026686b",
   "metadata": {},
   "outputs": [],
   "source": [
    "import pandas as pd\n",
    "import numpy as np\n",
    "import pickle\n",
    "import datetime\n",
    "from gensim.models import word2vec, KeyedVectors\n",
    "from sklearn.metrics.pairwise import cosine_similarity\n",
    "from scipy.spatial import procrustes\n",
    "from multiprocessing import cpu_count\n",
    "from pandarallel import pandarallel\n",
    "\n",
    "%aimport preprocessing\n",
    "%aimport utils\n",
    "%aimport p2v\n",
    "\n",
    "from utils import prinT\n",
    "import matplotlib.pyplot as plt\n",
    "import seaborn as sns\n",
    "%matplotlib inline\n",
    "\n",
    "pd.options.display.max_columns = None\n",
    "pd.set_option('max_colwidth', None)"
   ]
  },
  {
   "cell_type": "code",
   "execution_count": null,
   "id": "8a340c33-5733-44e8-b49d-f2ee79d4ca16",
   "metadata": {},
   "outputs": [],
   "source": [
    "def get_neighbor(venue_name):\n",
    "    VID = model.MAG_venue_info_df[model.MAG_venue_info_df.OriginalVenue==venue_name].index[0]\n",
    "    tup_list = current_wv.most_similar(positive=VID, topn=3)\n",
    "    VID_list = [tup[0] for tup in tup_list]\n",
    "    return [model.MAG_venue_info_df.at[VID, 'OriginalVenue'] for VID in VID_list]\n",
    "\n",
    "top20_df = cp_df.head(20).copy()\n",
    "\n",
    "for i in range(0, 7):\n",
    "    current_wv = model.load_wv(start_year_list[i], end_year_list[i], 100, 10)\n",
    "    top20_df['neighbor_'+start_year_list[i]+'s'] = top20_df['venue_name'].parallel_apply(get_neighbor)\n",
    "\n"
   ]
  },
  {
   "cell_type": "code",
   "execution_count": 3,
   "id": "9bb07969-293a-4619-a7b1-bd3c4c6515f2",
   "metadata": {},
   "outputs": [
    {
     "name": "stdout",
     "output_type": "stream",
     "text": [
      "2023-09-01 16:45:31 -- start loading Mag_venue_info_df\n",
      "2023-09-01 16:45:31 -- finish.\n",
      "2023-09-01 16:45:31 -- start loading labeled_journal_info_df\n",
      "2023-09-01 16:45:31 -- finish.\n"
     ]
    }
   ],
   "source": [
    "model = p2v.P2V()"
   ]
  },
  {
   "cell_type": "code",
   "execution_count": 37,
   "id": "471e2061-0e1a-4eba-b037-be5db63c1b53",
   "metadata": {},
   "outputs": [
    {
     "name": "stdout",
     "output_type": "stream",
     "text": [
      "2023-09-01 17:33:41 -- start loading word vectors...\n",
      "2023-09-01 17:33:41 -- word vectors loaded, and its shape is: (27604, 100)\n",
      "INFO: Pandarallel will run on 32 workers.\n",
      "INFO: Pandarallel will use Memory file system to transfer data between the main process and workers.\n"
     ]
    }
   ],
   "source": [
    "current_wv = model.load_wv(2000, 2009, 100, 10)\n",
    "pandarallel.initialize()"
   ]
  },
  {
   "cell_type": "code",
   "execution_count": 15,
   "id": "681c0aa4-b235-46fe-9e0a-5d1a273faf1b",
   "metadata": {},
   "outputs": [],
   "source": [
    "def get_vid(vname: str):\n",
    "    return model.MAG_venue_info_df[model.MAG_venue_info_df.OriginalVenue==vname].index[0]"
   ]
  },
  {
   "cell_type": "code",
   "execution_count": 20,
   "id": "5d56ee2d-c111-48ac-b966-3632878c8590",
   "metadata": {},
   "outputs": [
    {
     "data": {
      "text/plain": [
       "array([[0.8372348]], dtype=float32)"
      ]
     },
     "execution_count": 20,
     "metadata": {},
     "output_type": "execute_result"
    }
   ],
   "source": [
    "vector_a = current_wv.get_vector(get_vid('Journal of Biomedical Research'), norm=True)\n",
    "vector_b = current_wv.get_vector(get_vid('International Journal of Foreign Studies'), norm=True)\n",
    "cosine_similarity(vector_a.reshape(1, -1), vector_b.reshape(1, -1))"
   ]
  },
  {
   "cell_type": "code",
   "execution_count": 90,
   "id": "d0256bae-008e-4a5d-80dd-507ebbbe77d1",
   "metadata": {},
   "outputs": [],
   "source": [
    "k = 16\n",
    "def get_avg_neighbor_sim(VID):\n",
    "    neighbor_sim_list = [tup[1] for tup in current_wv.most_similar(positive=int(VID), topn=k)]\n",
    "    return sum(neighbor_sim_list) / len(neighbor_sim_list)\n",
    "\n",
    "def get_neighbor(venue_name):\n",
    "    neighbor_VID_list = [tup[0] for tup in current_wv.most_similar(positive=get_vid(venue_name), topn=k)]\n",
    "    return [model.MAG_venue_info_df.at[VID, 'OriginalVenue']for VID in neighbor_VID_list]"
   ]
  },
  {
   "cell_type": "code",
   "execution_count": 53,
   "id": "9ff45006-0360-4c8f-90ae-8930aabf8560",
   "metadata": {},
   "outputs": [],
   "source": [
    "VIDs = current_wv.index_to_key"
   ]
  },
  {
   "cell_type": "code",
   "execution_count": 40,
   "id": "476d34e5-538e-42d5-8cf2-e2521b973cba",
   "metadata": {},
   "outputs": [],
   "source": [
    "avg_neighbor_sim_df = pd.DataFrame({'VID':VIDs})"
   ]
  },
  {
   "cell_type": "code",
   "execution_count": 67,
   "id": "13e430a8-4255-452c-adae-48250635903b",
   "metadata": {},
   "outputs": [],
   "source": [
    "avg_neighbor_sim_df['avg_neighbor_sim'] = avg_neighbor_sim_df.VID.apply(get_avg_neighbor_sim)"
   ]
  },
  {
   "cell_type": "code",
   "execution_count": 88,
   "id": "b9ab0075-4dac-47a0-99b4-104df3afbee7",
   "metadata": {},
   "outputs": [
    {
     "data": {
      "text/plain": [
       "count    27604.000000\n",
       "mean         0.767050\n",
       "std          0.074793\n",
       "min          0.400429\n",
       "25%          0.720387\n",
       "50%          0.771386\n",
       "75%          0.817253\n",
       "max          0.971065\n",
       "Name: avg_neighbor_sim, dtype: float64"
      ]
     },
     "execution_count": 88,
     "metadata": {},
     "output_type": "execute_result"
    }
   ],
   "source": [
    "avg_neighbor_sim_df['avg_neighbor_sim'].describe()"
   ]
  },
  {
   "cell_type": "code",
   "execution_count": 73,
   "id": "08a5488b-801b-40a0-ae62-4b93c2722ef4",
   "metadata": {},
   "outputs": [
    {
     "data": {
      "text/plain": [
       "<AxesSubplot: ylabel='Frequency'>"
      ]
     },
     "execution_count": 73,
     "metadata": {},
     "output_type": "execute_result"
    },
    {
     "data": {
      "image/png": "[encoded data removed]",
      "text/plain": [
       "<Figure size 432x288 with 1 Axes>"
      ]
     },
     "metadata": {
      "needs_background": "light"
     },
     "output_type": "display_data"
    }
   ],
   "source": [
    "avg_neighbor_sim_df['avg_neighbor_sim'].plot.hist(bins=100)"
   ]
  },
  {
   "cell_type": "code",
   "execution_count": 89,
   "id": "433e879d-ef4a-4a49-9e8d-96ee4980fdbe",
   "metadata": {},
   "outputs": [
    {
     "data": {
      "text/html": [
       "<div>\n",
       "<style scoped>\n",
       "    .dataframe tbody tr th:only-of-type {\n",
       "        vertical-align: middle;\n",
       "    }\n",
       "\n",
       "    .dataframe tbody tr th {\n",
       "        vertical-align: top;\n",
       "    }\n",
       "\n",
       "    .dataframe thead th {\n",
       "        text-align: right;\n",
       "    }\n",
       "</style>\n",
       "<table border=\"1\" class=\"dataframe\">\n",
       "  <thead>\n",
       "    <tr style=\"text-align: right;\">\n",
       "      <th></th>\n",
       "      <th>VID</th>\n",
       "      <th>avg_neighbor_sim</th>\n",
       "    </tr>\n",
       "  </thead>\n",
       "  <tbody>\n",
       "    <tr>\n",
       "      <th>23079</th>\n",
       "      <td>165426342.0</td>\n",
       "      <td>0.774357</td>\n",
       "    </tr>\n",
       "  </tbody>\n",
       "</table>\n",
       "</div>"
      ],
      "text/plain": [
       "               VID  avg_neighbor_sim\n",
       "23079  165426342.0          0.774357"
      ]
     },
     "execution_count": 89,
     "metadata": {},
     "output_type": "execute_result"
    }
   ],
   "source": [
    "avg_neighbor_sim_df[avg_neighbor_sim_df.VID==get_vid('Journal of Biomedical Research')]"
   ]
  },
  {
   "cell_type": "code",
   "execution_count": 98,
   "id": "23d7a2fe-9307-419c-ad10-385931ac0f94",
   "metadata": {},
   "outputs": [
    {
     "data": {
      "text/plain": [
       "['University of Colorado Law Review',\n",
       " 'The Henry James Review',\n",
       " 'Contemporary Security Policy',\n",
       " 'Esq-a Journal of The American Renaissance',\n",
       " 'International Journal of Leadership in Education',\n",
       " 'Qualitative Theory of Dynamical Systems',\n",
       " 'Orbis',\n",
       " 'The National Interest',\n",
       " 'Intelligence & National Security',\n",
       " 'The Journal of Intelligence History',\n",
       " 'Canadian Journal of Film Studies-revue Canadienne D Etudes Cinematographiques',\n",
       " 'The Strategic Review for Southern Africa',\n",
       " 'Studies in American Fiction',\n",
       " 'Middle East Quarterly',\n",
       " 'Conflict Trends',\n",
       " 'Vietnam journal of mathematics']"
      ]
     },
     "execution_count": 98,
     "metadata": {},
     "output_type": "execute_result"
    }
   ],
   "source": [
    "get_neighbor('The World Journal of Men\\'s Health')"
   ]
  },
  {
   "cell_type": "code",
   "execution_count": 93,
   "id": "051899c2-eb0c-4b4b-a106-457fac2204ce",
   "metadata": {},
   "outputs": [
    {
     "name": "stdout",
     "output_type": "stream",
     "text": [
      "2023-09-01 20:54:59 -- start loading walks...\n",
      "2023-09-01 20:57:26 -- finish.\n"
     ]
    }
   ],
   "source": [
    "model.load_walks(2000, 2009)"
   ]
  },
  {
   "cell_type": "code",
   "execution_count": null,
   "id": "fc31461b-cfe2-467d-9422-f439174c479f",
   "metadata": {},
   "outputs": [],
   "source": [
    "focal_walks = []\n",
    "vid = get_vid('The World Journal of Men\\'s Health')\n",
    "for walk in model.walks:\n",
    "    if vid in walk:\n",
    "        focal_walks.append(walk)"
   ]
  },
  {
   "cell_type": "code",
   "execution_count": null,
   "id": "d21e6a53-8a72-4898-9076-2a7f0e684914",
   "metadata": {},
   "outputs": [],
   "source": [
    "focal_walks"
   ]
  }
 ],
 "metadata": {
  "kernelspec": {
   "display_name": "Python 3 (ipykernel)",
   "language": "python",
   "name": "python3"
  },
  "language_info": {
   "codemirror_mode": {
    "name": "ipython",
    "version": 3
   },
   "file_extension": ".py",
   "mimetype": "text/x-python",
   "name": "python",
   "nbconvert_exporter": "python",
   "pygments_lexer": "ipython3",
   "version": "3.11.9"
  }
 },
 "nbformat": 4,
 "nbformat_minor": 5
}
